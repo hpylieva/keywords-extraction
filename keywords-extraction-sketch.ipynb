{
 "cells": [
  {
   "cell_type": "code",
   "execution_count": 3,
   "metadata": {
    "ExecuteTime": {
     "end_time": "2018-10-10T09:01:18.669456Z",
     "start_time": "2018-10-10T09:01:18.654262Z"
    }
   },
   "outputs": [],
   "source": [
    "\n",
    "\n",
    "\n",
    "# Adapted from: github.com/aneesha/RAKE/rake.py\n",
    "from __future__ import division\n",
    "import operator\n",
    "import nltk\n",
    "import string\n",
    "\n",
    "def isPunct(word):\n",
    "    return len(word) == 1 and word in string.punctuation\n",
    "\n",
    "def isNumeric(word):\n",
    "    try:\n",
    "        float(word) if '.' in word else int(word)\n",
    "        return True\n",
    "    except ValueError:\n",
    "        return False\n",
    "\n",
    "class RakeKeywordExtractor:\n",
    "\n",
    "    def __init__(self):\n",
    "        self.stopwords = set(nltk.corpus.stopwords.words('russian'))\n",
    "        self.top_fraction = 1 #consider top third candidate keywords by score\n",
    "\n",
    "    def _generate_candidate_keywords(self, sentences):\n",
    "        phrase_list = []\n",
    "        for sentence in sentences:\n",
    "            words = map(lambda x: \"|\" if x in self.stopwords else x,\n",
    "                nltk.word_tokenize(sentence.lower()))\n",
    "            phrase = []\n",
    "            for word in words:\n",
    "                if word == \"|\" or isPunct(word):\n",
    "                    if len(phrase) > 0:\n",
    "                        phrase_list.append(phrase)\n",
    "                        phrase = []\n",
    "                else:\n",
    "                    phrase.append(word)\n",
    "        return phrase_list\n",
    "\n",
    "    def _calculate_word_scores(self, phrase_list):\n",
    "        word_freq = nltk.FreqDist()\n",
    "        word_degree = nltk.FreqDist()\n",
    "        for phrase in phrase_list:\n",
    "            degree = len(list(filter(lambda x: not isNumeric(x), phrase))) - 1\n",
    "            for word in phrase:\n",
    "                word_freq[word] +=1\n",
    "                word_degree[word] += degree\n",
    "        for word in word_freq.keys():\n",
    "            word_degree[word] = word_degree[word] + word_freq[word] # itself\n",
    "        # word score = deg(w) / freq(w)\n",
    "        word_scores = {}\n",
    "        for word in word_freq.keys():\n",
    "            word_scores[word] = float(word_degree[word]) / word_freq[word]\n",
    "        return word_scores\n",
    "\n",
    "    def _calculate_phrase_scores(self, phrase_list, word_scores):\n",
    "        phrase_scores = {}\n",
    "        for phrase in phrase_list:\n",
    "            phrase_score = 0\n",
    "            for word in phrase:\n",
    "                phrase_score += word_scores[word]\n",
    "                phrase_scores[\" \".join(phrase)] = phrase_score\n",
    "        return phrase_scores\n",
    "    \n",
    "    def extract(self, text, incl_scores=False):\n",
    "        sentences = nltk.sent_tokenize(text)\n",
    "        phrase_list = self._generate_candidate_keywords(sentences)\n",
    "        word_scores = self._calculate_word_scores(phrase_list)\n",
    "        phrase_scores = self._calculate_phrase_scores(\n",
    "            phrase_list, word_scores)\n",
    "        sorted_phrase_scores = sorted(phrase_scores.items(),\n",
    "            key=operator.itemgetter(1), reverse=True)\n",
    "        n_phrases = len(sorted_phrase_scores)\n",
    "        if incl_scores:\n",
    "            return sorted_phrase_scores[0:int(float(n_phrases)/self.top_fraction)]\n",
    "        else:\n",
    "            return map(lambda x: x[0],\n",
    "                sorted_phrase_scores[0:int(float(n_phrases)/self.top_fraction)])\n",
    "\n",
    "def test():\n",
    "    rake = RakeKeywordExtractor()\n",
    "    text = \"\"\"\n",
    "    Одной из популярных позиций нашего производства является угловой диван Респект. Если Вы современный и деловой человек, любите комфорт и уют, а каждый сантиметр жилплощади для Вас на вес золота – тогда угловой диван Респект отлично впишется в интерьер Вашей квартиры, заняв при этом минимум места. Угловой диван Респект не только практичен в использовании, удобен, мягок и современен, но и еще удивительно компактен. В его изготовлении используются только самые экологически чистые ткани и наполнители, а механизм раскладки еврокнижка - поможет Вам сэкономить массу усилий и времени для его преобразования в полноценную кровать.\n",
    "\n",
    "     Модель со схемой раскладки еврокнижка, сделана на основе деревянного каркаса с использованием пружины типа Боннель в паре с пружинной змейкой.\n",
    "Особенностью этого дивана является небольшой габаритный размер короткой части модели 135см, что позволяет устанавливать его в наши малогабаритные квартиры. Стильные боковые перила в виде полудуги придают угловому дивану Респект чрезвычайной элегантности.\n",
    "\n",
    "     Как и в большинстве моделей нашего производства в модели Респект есть возможность добавления на спальную и сидячую части натуральных наполнителей (кокос, латекс, спрут, шерсть и др.), что придаст модели более выраженный ортопедический эффект. В конструкцию углового дивана заложено два больших места для хранения постельного белья, одно под сидячей продольной частью, второе в угловой части. Угловой диван Респект комплектуется тремя большими подушками для удобного сидения в собранном виде.\n",
    "\n",
    "     Все материалы, которые используются при производстве углового дивана Респект проверены и сертифицированы, на весь модельный ряд и в частности на эту модель распространяется гарантийное и послегарантийное обслуживание.\n",
    "    \"\"\"\n",
    "#     \"\"\"Compatibility of systems of linear constraints over the set of natural \n",
    "#         numbers. Criteria of compatibility of a system of linear Diophantine \n",
    "#         equations, strict inequations, and nonstrict inequations are considered. \n",
    "#         Upper bounds for components of a minimal set of solutions and algorithms \n",
    "#         of construction of minimal generating sets of solutions for all types of \n",
    "#         systems are given. These criteria and the corresponding algorithms for \n",
    "#         constructing a minimal supporting set of solutions can be used in solving \n",
    "#         all the considered types of systems and systems of mixed types.\"\"\"\n",
    "    keywords = rake.extract(text, incl_scores=False)\n",
    "    return keywords\n",
    "  "
   ]
  },
  {
   "cell_type": "code",
   "execution_count": 9,
   "metadata": {
    "ExecuteTime": {
     "end_time": "2018-10-10T10:14:07.087011Z",
     "start_time": "2018-10-10T10:14:07.078312Z"
    }
   },
   "outputs": [],
   "source": [
    "rake = RakeKeywordExtractor()\n",
    "text = \"\"\"\n",
    "Одной из популярных позиций нашего производства является угловой диван Респект. Если Вы современный и деловой человек, любите комфорт и уют, а каждый сантиметр жилплощади для Вас на вес золота – тогда угловой диван Респект отлично впишется в интерьер Вашей квартиры, заняв при этом минимум места. Угловой диван Респект не только практичен в использовании, удобен, мягок и современен, но и еще удивительно компактен. В его изготовлении используются только самые экологически чистые ткани и наполнители, а механизм раскладки еврокнижка - поможет Вам сэкономить массу усилий и времени для его преобразования в полноценную кровать.\n",
    "\n",
    " Модель со схемой раскладки еврокнижка, сделана на основе деревянного каркаса с использованием пружины типа Боннель в паре с пружинной змейкой.\n",
    "Особенностью этого дивана является небольшой габаритный размер короткой части модели 135см, что позволяет устанавливать его в наши малогабаритные квартиры. Стильные боковые перила в виде полудуги придают угловому дивану Респект чрезвычайной элегантности.\n",
    "\n",
    " Как и в большинстве моделей нашего производства в модели Респект есть возможность добавления на спальную и сидячую части натуральных наполнителей (кокос, латекс, спрут, шерсть и др.), что придаст модели более выраженный ортопедический эффект. В конструкцию углового дивана заложено два больших места для хранения постельного белья, одно под сидячей продольной частью, второе в угловой части. Угловой диван Респект комплектуется тремя большими подушками для удобного сидения в собранном виде.\n",
    "\n",
    " Все материалы, которые используются при производстве углового дивана Респект проверены и сертифицированы, на весь модельный ряд и в частности на эту модель распространяется гарантийное и послегарантийное обслуживание.\n",
    "    \"\"\"\n",
    "#     \"\"\"Compatibility of systems of linear constraints over the set of natural \n",
    "#         numbers. Criteria of compatibility of a system of linear Diophantine \n",
    "#         equations, strict inequations, and nonstrict inequations are considered. \n",
    "#         Upper bounds for components of a minimal set of solutions and algorithms \n",
    "#         of construction of minimal generating sets of solutions for all types of \n",
    "#         systems are given. These criteria and the corresponding algorithms for \n",
    "#         constructing a minimal supporting set of solutions can be used in solving \n",
    "#         all the considered types of systems and systems of mixed types.\"\"\"\n",
    "keywords = rake.extract(text, incl_scores=True)"
   ]
  },
  {
   "cell_type": "code",
   "execution_count": 10,
   "metadata": {
    "ExecuteTime": {
     "end_time": "2018-10-10T10:14:07.837056Z",
     "start_time": "2018-10-10T10:14:07.832058Z"
    },
    "scrolled": true
   },
   "outputs": [
    {
     "data": {
      "text/plain": [
       "[('дивана является небольшой габаритный размер короткой части модели 135см',\n",
       "  68.83333333333334),\n",
       " ('виде полудуги придают угловому дивану респект чрезвычайной элегантности',\n",
       "  58.42857142857143),\n",
       " ('популярных позиций нашего производства является угловой диван респект',\n",
       "  52.67857142857143),\n",
       " ('угловой диван респект комплектуется тремя большими подушками',\n",
       "  44.17857142857143),\n",
       " ('угловой диван респект отлично впишется', 26.17857142857143),\n",
       " ('производстве углового дивана респект проверены', 25.92857142857143),\n",
       " ('большинстве моделей нашего производства', 20.0),\n",
       " ('конструкцию углового дивана заложено', 18.5),\n",
       " ('сидячую части натуральных наполнителей', 17.0),\n",
       " ('угловой диван респект', 16.17857142857143),\n",
       " ('самые экологически чистые ткани', 16.0),\n",
       " ('использованием пружины типа боннель', 16.0),\n",
       " ('угловой части', 10.0),\n",
       " ('модели респект', 9.761904761904763),\n",
       " ('хранения постельного белья', 9.0),\n",
       " ('схемой раскладки еврокнижка', 9.0),\n",
       " ('выраженный ортопедический эффект', 9.0),\n",
       " ('наши малогабаритные квартиры', 9.0),\n",
       " ('весь модельный ряд', 9.0),\n",
       " ('каждый сантиметр жилплощади', 9.0),\n",
       " ('интерьер вашей квартиры', 9.0),\n",
       " ('основе деревянного каркаса', 9.0),\n",
       " ('сидячей продольной частью', 9.0),\n",
       " ('стильные боковые перила', 9.0),\n",
       " ('механизм раскладки еврокнижка', 9.0),\n",
       " ('сэкономить массу усилий', 9.0),\n",
       " ('вес золота –', 9.0),\n",
       " ('модель распространяется гарантийное', 8.0),\n",
       " ('собранном виде', 7.0),\n",
       " ('придаст модели', 6.333333333333333),\n",
       " ('изготовлении используются', 4.0),\n",
       " ('послегарантийное обслуживание', 4.0),\n",
       " ('возможность добавления', 4.0),\n",
       " ('пружинной змейкой', 4.0),\n",
       " ('минимум места', 4.0),\n",
       " ('позволяет устанавливать', 4.0),\n",
       " ('больших места', 4.0),\n",
       " ('которые используются', 4.0),\n",
       " ('полноценную кровать', 4.0),\n",
       " ('удивительно компактен', 4.0),\n",
       " ('удобного сидения', 4.0),\n",
       " ('деловой человек', 4.0),\n",
       " ('любите комфорт', 4.0),\n",
       " ('модель', 2.0),\n",
       " ('наполнители', 1.0),\n",
       " ('паре', 1.0),\n",
       " ('современный', 1.0),\n",
       " ('практичен', 1.0),\n",
       " ('одно', 1.0),\n",
       " ('латекс', 1.0),\n",
       " ('одной', 1.0),\n",
       " ('шерсть', 1.0),\n",
       " ('заняв', 1.0),\n",
       " ('особенностью', 1.0),\n",
       " ('сертифицированы', 1.0),\n",
       " ('спальную', 1.0),\n",
       " ('уют', 1.0),\n",
       " ('сделана', 1.0),\n",
       " ('поможет', 1.0),\n",
       " ('мягок', 1.0),\n",
       " ('спрут', 1.0),\n",
       " ('частности', 1.0),\n",
       " ('времени', 1.0),\n",
       " ('второе', 1.0),\n",
       " ('кокос', 1.0),\n",
       " ('современен', 1.0),\n",
       " ('удобен', 1.0),\n",
       " ('материалы', 1.0),\n",
       " ('преобразования', 1.0),\n",
       " ('использовании', 1.0),\n",
       " ('др', 1.0)]"
      ]
     },
     "execution_count": 10,
     "metadata": {},
     "output_type": "execute_result"
    }
   ],
   "source": [
    "list(keywords)"
   ]
  },
  {
   "cell_type": "code",
   "execution_count": 4,
   "metadata": {
    "ExecuteTime": {
     "end_time": "2018-10-10T09:01:20.251049Z",
     "start_time": "2018-10-10T09:01:20.005275Z"
    },
    "scrolled": true
   },
   "outputs": [
    {
     "ename": "TypeError",
     "evalue": "data argument can't be an iterator",
     "output_type": "error",
     "traceback": [
      "\u001b[0;31m---------------------------------------------------------------------------\u001b[0m",
      "\u001b[0;31mTypeError\u001b[0m                                 Traceback (most recent call last)",
      "\u001b[0;32m<ipython-input-4-e09a1e5d490b>\u001b[0m in \u001b[0;36m<module>\u001b[0;34m()\u001b[0m\n\u001b[1;32m      2\u001b[0m \u001b[0mpd\u001b[0m\u001b[0;34m.\u001b[0m\u001b[0mset_option\u001b[0m\u001b[0;34m(\u001b[0m\u001b[0;34m'display.max_colwidth'\u001b[0m\u001b[0;34m,\u001b[0m \u001b[0;34m-\u001b[0m\u001b[0;36m1\u001b[0m\u001b[0;34m)\u001b[0m\u001b[0;34m\u001b[0m\u001b[0m\n\u001b[1;32m      3\u001b[0m \u001b[0mpd\u001b[0m\u001b[0;34m.\u001b[0m\u001b[0mset_option\u001b[0m\u001b[0;34m(\u001b[0m\u001b[0;34m'display.max_colwidth'\u001b[0m\u001b[0;34m,\u001b[0m \u001b[0;36m1000\u001b[0m\u001b[0;34m)\u001b[0m\u001b[0;34m\u001b[0m\u001b[0m\n\u001b[0;32m----> 4\u001b[0;31m \u001b[0mres\u001b[0m \u001b[0;34m=\u001b[0m \u001b[0mpd\u001b[0m\u001b[0;34m.\u001b[0m\u001b[0mDataFrame\u001b[0m\u001b[0;34m(\u001b[0m\u001b[0mtest\u001b[0m\u001b[0;34m(\u001b[0m\u001b[0;34m)\u001b[0m\u001b[0;34m)\u001b[0m\u001b[0;34m\u001b[0m\u001b[0m\n\u001b[0m\u001b[1;32m      5\u001b[0m \u001b[0mres\u001b[0m\u001b[0;34m\u001b[0m\u001b[0m\n",
      "\u001b[0;32m/usr/local/lib/python3.4/dist-packages/pandas/core/frame.py\u001b[0m in \u001b[0;36m__init__\u001b[0;34m(self, data, index, columns, dtype, copy)\u001b[0m\n\u001b[1;32m    332\u001b[0m                 \u001b[0mmgr\u001b[0m \u001b[0;34m=\u001b[0m \u001b[0mself\u001b[0m\u001b[0;34m.\u001b[0m\u001b[0m_init_dict\u001b[0m\u001b[0;34m(\u001b[0m\u001b[0;34m{\u001b[0m\u001b[0;34m}\u001b[0m\u001b[0;34m,\u001b[0m \u001b[0mindex\u001b[0m\u001b[0;34m,\u001b[0m \u001b[0mcolumns\u001b[0m\u001b[0;34m,\u001b[0m \u001b[0mdtype\u001b[0m\u001b[0;34m=\u001b[0m\u001b[0mdtype\u001b[0m\u001b[0;34m)\u001b[0m\u001b[0;34m\u001b[0m\u001b[0m\n\u001b[1;32m    333\u001b[0m         \u001b[0;32melif\u001b[0m \u001b[0misinstance\u001b[0m\u001b[0;34m(\u001b[0m\u001b[0mdata\u001b[0m\u001b[0;34m,\u001b[0m \u001b[0mcollections\u001b[0m\u001b[0;34m.\u001b[0m\u001b[0mIterator\u001b[0m\u001b[0;34m)\u001b[0m\u001b[0;34m:\u001b[0m\u001b[0;34m\u001b[0m\u001b[0m\n\u001b[0;32m--> 334\u001b[0;31m             \u001b[0;32mraise\u001b[0m \u001b[0mTypeError\u001b[0m\u001b[0;34m(\u001b[0m\u001b[0;34m\"data argument can't be an iterator\"\u001b[0m\u001b[0;34m)\u001b[0m\u001b[0;34m\u001b[0m\u001b[0m\n\u001b[0m\u001b[1;32m    335\u001b[0m         \u001b[0;32melse\u001b[0m\u001b[0;34m:\u001b[0m\u001b[0;34m\u001b[0m\u001b[0m\n\u001b[1;32m    336\u001b[0m             \u001b[0;32mtry\u001b[0m\u001b[0;34m:\u001b[0m\u001b[0;34m\u001b[0m\u001b[0m\n",
      "\u001b[0;31mTypeError\u001b[0m: data argument can't be an iterator"
     ]
    }
   ],
   "source": [
    "import pandas as pd\n",
    "pd.set_option('display.max_colwidth', -1)\n",
    "pd.set_option('display.max_colwidth', 1000)\n",
    "res = pd.DataFrame(test())\n",
    "res"
   ]
  },
  {
   "cell_type": "code",
   "execution_count": 14,
   "metadata": {},
   "outputs": [],
   "source": [
    "from rutermextract import TermExtractor"
   ]
  },
  {
   "cell_type": "code",
   "execution_count": 19,
   "metadata": {
    "scrolled": true
   },
   "outputs": [
    {
     "name": "stdout",
     "output_type": "stream",
     "text": [
      "респект 7\n",
      "диван 5\n",
      "угловой 4\n",
      "модель 4\n",
      "угловой диван 3\n",
      "наше производство 2\n",
      "еврокнижка 2\n",
      "три большими подушками 1\n",
      "стильные боковые перила 1\n",
      "сидячая продольная часть 1\n",
      "небольшая габаритный размер 1\n",
      "наши малогабаритные квартира 1\n",
      "короткая часть модели 1\n",
      "каждый сантиметр жилплощади 1\n",
      "использование пружины типа 1\n",
      "два больших места 1\n",
      "выраженный ортопедический эффект 1\n",
      "весь модельный ряд 1\n",
      "чрезвычайная элегантность 1\n",
      "чистые ткань 1\n",
      "удобный сидение 1\n",
      "угловой части 1\n",
      "схема раскладки 1\n",
      "собранный вид 1\n",
      "сидячая часть 1\n",
      "пружинная змейка 1\n",
      "постельный бельё 1\n",
      "послегарантийное обслуживание 1\n",
      "популярные позиции 1\n",
      "полноценная кровать 1\n",
      "натуральные наполнители 1\n",
      "минимум места 1\n",
      "механизм раскладки 1\n",
      "масса усилий 1\n",
      "деревянный каркас 1\n",
      "деловая человек 1\n",
      "возможность добавления 1\n",
      "вид полудуги 1\n",
      "вес золота 1\n",
      "ваша квартира 1\n",
      "большинство моделей 1\n",
      "шерсть 1\n",
      "частность 1\n",
      "хранение 1\n",
      "уют 1\n",
      "спрут 1\n",
      "спальная 1\n",
      "производство 1\n",
      "преобразование 1\n",
      "пар 1\n",
      "особенность 1\n",
      "основа 1\n",
      "наполнители 1\n",
      "материалы 1\n",
      "латекс 1\n",
      "конструкция 1\n",
      "комфорт 1\n",
      "кокос 1\n",
      "использование 1\n",
      "интерьер 1\n",
      "изготовление 1\n",
      "др 1\n",
      "время 1\n",
      "боннель 1\n",
      "135см 1\n"
     ]
    }
   ],
   "source": [
    "term_extractor = TermExtractor()\n",
    "text = u\"\"\"Одной из популярных позиций нашего производства является угловой диван Респект. Если Вы современный и деловой человек, любите комфорт и уют, а каждый сантиметр жилплощади для Вас на вес золота – тогда угловой диван Респект отлично впишется в интерьер Вашей квартиры, заняв при этом минимум места. Угловой диван Респект не только практичен в использовании, удобен, мягок и современен, но и еще удивительно компактен. В его изготовлении используются только самые экологически чистые ткани и наполнители, а механизм раскладки еврокнижка - поможет Вам сэкономить массу усилий и времени для его преобразования в полноценную кровать.\n",
    "\n",
    "     Модель со схемой раскладки еврокнижка, сделана на основе деревянного каркаса с использованием пружины типа Боннель в паре с пружинной змейкой.\n",
    "Особенностью этого дивана является небольшой габаритный размер короткой части модели 135см, что позволяет устанавливать его в наши малогабаритные квартиры. Стильные боковые перила в виде полудуги придают угловому дивану Респект чрезвычайной элегантности.\n",
    "\n",
    "     Как и в большинстве моделей нашего производства в модели Респект есть возможность добавления на спальную и сидячую части натуральных наполнителей (кокос, латекс, спрут, шерсть и др.), что придаст модели более выраженный ортопедический эффект. В конструкцию углового дивана заложено два больших места для хранения постельного белья, одно под сидячей продольной частью, второе в угловой части. Угловой диван Респект комплектуется тремя большими подушками для удобного сидения в собранном виде.\n",
    "\n",
    "     Все материалы, которые используются при производстве углового дивана Респект проверены и сертифицированы, на весь модельный ряд и в частности на эту модель распространяется гарантийное и послегарантийное обслуживание.\"\"\"\n",
    "for term in term_extractor(text):\n",
    "    print(term.normalized, term.count)"
   ]
  },
  {
   "cell_type": "code",
   "execution_count": 41,
   "metadata": {},
   "outputs": [],
   "source": [
    "term_extracted = term_extractor(text)"
   ]
  },
  {
   "cell_type": "code",
   "execution_count": 51,
   "metadata": {},
   "outputs": [
    {
     "data": {
      "text/plain": [
       "1"
      ]
     },
     "execution_count": 51,
     "metadata": {},
     "output_type": "execute_result"
    }
   ],
   "source": [
    "term.word_count"
   ]
  }
 ],
 "metadata": {
  "kernelspec": {
   "display_name": "Python 3",
   "language": "python",
   "name": "python3"
  },
  "language_info": {
   "codemirror_mode": {
    "name": "ipython",
    "version": 3
   },
   "file_extension": ".py",
   "mimetype": "text/x-python",
   "name": "python",
   "nbconvert_exporter": "python",
   "pygments_lexer": "ipython3",
   "version": "3.4.3"
  },
  "toc": {
   "base_numbering": 1,
   "nav_menu": {},
   "number_sections": true,
   "sideBar": true,
   "skip_h1_title": false,
   "title_cell": "Table of Contents",
   "title_sidebar": "Contents",
   "toc_cell": false,
   "toc_position": {},
   "toc_section_display": true,
   "toc_window_display": false
  },
  "varInspector": {
   "cols": {
    "lenName": 16,
    "lenType": 16,
    "lenVar": 40
   },
   "kernels_config": {
    "python": {
     "delete_cmd_postfix": "",
     "delete_cmd_prefix": "del ",
     "library": "var_list.py",
     "varRefreshCmd": "print(var_dic_list())"
    },
    "r": {
     "delete_cmd_postfix": ") ",
     "delete_cmd_prefix": "rm(",
     "library": "var_list.r",
     "varRefreshCmd": "cat(var_dic_list()) "
    }
   },
   "types_to_exclude": [
    "module",
    "function",
    "builtin_function_or_method",
    "instance",
    "_Feature"
   ],
   "window_display": false
  }
 },
 "nbformat": 4,
 "nbformat_minor": 2
}
