{
 "cells": [
  {
   "cell_type": "code",
   "execution_count": 3,
   "metadata": {
    "ExecuteTime": {
     "end_time": "2018-11-08T16:01:37.194434Z",
     "start_time": "2018-11-08T16:01:36.181768Z"
    }
   },
   "outputs": [
    {
     "name": "stdout",
     "output_type": "stream",
     "text": [
      "[nltk_data] Downloading package averaged_perceptron_tagger_ru to\n",
      "[nltk_data]     /home/h.pylieva/nltk_data...\n",
      "[nltk_data]   Package averaged_perceptron_tagger_ru is already up-to-\n",
      "[nltk_data]       date!\n"
     ]
    }
   ],
   "source": [
    "import numpy as np\n",
    "import pandas as pd\n",
    "from bs4 import BeautifulSoup\n",
    "import re\n",
    "from rutermextract import TermExtractor\n",
    "from kw_extraction_scripts import textrank"
   ]
  },
  {
   "cell_type": "code",
   "execution_count": 4,
   "metadata": {
    "ExecuteTime": {
     "end_time": "2018-11-08T16:01:37.221739Z",
     "start_time": "2018-11-08T16:01:37.204053Z"
    },
    "code_folding": []
   },
   "outputs": [],
   "source": [
    "from __future__ import division\n",
    "import operator\n",
    "import nltk\n",
    "import string\n",
    "\n",
    "def isPunct(word):\n",
    "    return len(word) == 1 and word in string.punctuation\n",
    "\n",
    "def isNumeric(word):\n",
    "    try:\n",
    "        float(word) if '.' in word else int(word)\n",
    "        return True\n",
    "    except ValueError:\n",
    "        return False\n",
    "\n",
    "class RakeKeywordExtractor:\n",
    "\n",
    "    def __init__(self):\n",
    "        self.stopwords = set(nltk.corpus.stopwords.words('russian'))\n",
    "        self.top_fraction = 1 #consider top third candidate keywords by score\n",
    "\n",
    "    def _generate_candidate_keywords(self, sentences):\n",
    "        phrase_list = []\n",
    "        for sentence in sentences:\n",
    "            words = map(lambda x: \"|\" if x in self.stopwords else x,\n",
    "                nltk.word_tokenize(sentence.lower()))\n",
    "            phrase = []\n",
    "            for word in words:\n",
    "                if word == \"|\" or isPunct(word):\n",
    "                    if len(phrase) > 0:\n",
    "                        phrase_list.append(phrase)\n",
    "                        phrase = []\n",
    "                else:\n",
    "                    phrase.append(word)\n",
    "        return phrase_list\n",
    "\n",
    "    def _calculate_word_scores(self, phrase_list):\n",
    "        word_freq = nltk.FreqDist()\n",
    "        word_degree = nltk.FreqDist()\n",
    "        for phrase in phrase_list:\n",
    "            degree = len(list(filter(lambda x: not isNumeric(x), phrase))) - 1\n",
    "            for word in phrase:\n",
    "                word_freq[word] +=1\n",
    "                word_degree[word] += degree\n",
    "        for word in word_freq.keys():\n",
    "            word_degree[word] = word_degree[word] + word_freq[word] # itself\n",
    "        # word score = deg(w) / freq(w)\n",
    "        word_scores = {}\n",
    "        for word in word_freq.keys():\n",
    "            word_scores[word] = float(word_degree[word]) / word_freq[word]\n",
    "        return word_scores\n",
    "\n",
    "    def _calculate_phrase_scores(self, phrase_list, word_scores):\n",
    "        phrase_scores = {}\n",
    "        for phrase in phrase_list:\n",
    "            phrase_score = 0\n",
    "            for word in phrase:\n",
    "                phrase_score += word_scores[word]\n",
    "                phrase_scores[\" \".join(phrase)] = phrase_score\n",
    "        return phrase_scores\n",
    "    \n",
    "    def extract(self, text, incl_scores=False):\n",
    "        sentences = nltk.sent_tokenize(text)\n",
    "        phrase_list = self._generate_candidate_keywords(sentences)\n",
    "        word_scores = self._calculate_word_scores(phrase_list)\n",
    "        phrase_scores = self._calculate_phrase_scores(\n",
    "            phrase_list, word_scores)\n",
    "        sorted_phrase_scores = sorted(phrase_scores.items(),\n",
    "            key=operator.itemgetter(1), reverse=True)\n",
    "        n_phrases = len(sorted_phrase_scores)\n",
    "        if incl_scores:\n",
    "            return sorted_phrase_scores[0:int(float(n_phrases)/self.top_fraction)]\n",
    "        else:\n",
    "            return map(lambda x: x[0],\n",
    "                sorted_phrase_scores[0:int(float(n_phrases)/self.top_fraction)])"
   ]
  },
  {
   "cell_type": "code",
   "execution_count": 5,
   "metadata": {
    "ExecuteTime": {
     "end_time": "2018-11-08T16:01:42.310558Z",
     "start_time": "2018-11-08T16:01:42.250869Z"
    }
   },
   "outputs": [],
   "source": [
    "ALPHA_RU = 'абвгдеёжзийклмнопрстуфхцчшщъыьэюяіїґ'\n",
    "ALPHA_EN = 'abcdefghijklmnopqrstuvwxwz'\n",
    "LETTERS_LIST = list(ALPHA_RU + ALPHA_EN)\n",
    "term_extractor = TermExtractor()\n",
    "rake = RakeKeywordExtractor()"
   ]
  },
  {
   "cell_type": "code",
   "execution_count": 67,
   "metadata": {
    "ExecuteTime": {
     "end_time": "2018-10-10T09:17:08.758775Z",
     "start_time": "2018-10-10T09:17:08.724070Z"
    }
   },
   "outputs": [],
   "source": [
    "prod = pd.read_csv('data/3000_products.csv')\n",
    "desc = pd.read_csv('data/3000_desc.csv')\n",
    "df = prod.set_index('id').join(desc.set_index('product_id'))\n",
    "df = df.dropna(subset=['description'])"
   ]
  },
  {
   "cell_type": "code",
   "execution_count": 7,
   "metadata": {
    "ExecuteTime": {
     "end_time": "2018-11-08T16:01:54.870228Z",
     "start_time": "2018-11-08T16:01:54.860511Z"
    }
   },
   "outputs": [],
   "source": [
    "def tokenize_description(desc, algorithm = 'rutermextractor'):\n",
    "#     tokens_list = []\n",
    "    if not str(desc)=='nan' and len(desc)>0:\n",
    "            if algorithm == 'rutermextractor':\n",
    "                terms = term_extractor(desc) \n",
    "#                 for term in terms:\n",
    "                tokens_list = [term.normalized for term in terms]\n",
    "            elif algorithm == 'rake':\n",
    "                tokens_list = list(rake.extract(desc, incl_scores=False))\n",
    "            elif algorithm == 'textrank':\n",
    "                tokens_list = textrank(text)\n",
    "    return tokens_list"
   ]
  },
  {
   "cell_type": "code",
   "execution_count": 69,
   "metadata": {
    "ExecuteTime": {
     "end_time": "2018-10-10T09:17:26.803096Z",
     "start_time": "2018-10-10T09:17:11.298243Z"
    }
   },
   "outputs": [],
   "source": [
    "df.description =(df.description\n",
    "                       .astype('str')\n",
    "                       .apply(lambda x: re.sub(r\"\\s+\", \" \", BeautifulSoup(x, \"lxml\").text.lower()))\n",
    "                       .apply(lambda x: ' '.join(word for word in x.split() if word not in (LETTERS_LIST))))\n",
    "df['desc_tokens'] = df.description.apply(lambda x: tokenize_description(x))"
   ]
  },
  {
   "cell_type": "code",
   "execution_count": 70,
   "metadata": {
    "ExecuteTime": {
     "end_time": "2018-10-10T09:17:28.553181Z",
     "start_time": "2018-10-10T09:17:26.903214Z"
    }
   },
   "outputs": [],
   "source": [
    "df['desc_tokens_rake'] = df.description.apply(lambda x: tokenize_description(x, 'rake'))"
   ]
  },
  {
   "cell_type": "code",
   "execution_count": 71,
   "metadata": {
    "ExecuteTime": {
     "end_time": "2018-10-10T09:17:28.676351Z",
     "start_time": "2018-10-10T09:17:28.648608Z"
    }
   },
   "outputs": [
    {
     "data": {
      "text/html": [
       "<div>\n",
       "<style>\n",
       "    .dataframe thead tr:only-child th {\n",
       "        text-align: right;\n",
       "    }\n",
       "\n",
       "    .dataframe thead th {\n",
       "        text-align: left;\n",
       "    }\n",
       "\n",
       "    .dataframe tbody tr th {\n",
       "        vertical-align: top;\n",
       "    }\n",
       "</style>\n",
       "<table border=\"1\" class=\"dataframe\">\n",
       "  <thead>\n",
       "    <tr style=\"text-align: right;\">\n",
       "      <th></th>\n",
       "      <th>name</th>\n",
       "      <th>url</th>\n",
       "      <th>category_id</th>\n",
       "      <th>cat_caption</th>\n",
       "      <th>description</th>\n",
       "      <th>desc_tokens</th>\n",
       "      <th>desc_tokens_rake</th>\n",
       "    </tr>\n",
       "    <tr>\n",
       "      <th>id</th>\n",
       "      <th></th>\n",
       "      <th></th>\n",
       "      <th></th>\n",
       "      <th></th>\n",
       "      <th></th>\n",
       "      <th></th>\n",
       "      <th></th>\n",
       "    </tr>\n",
       "  </thead>\n",
       "  <tbody>\n",
       "    <tr>\n",
       "      <th>3446225</th>\n",
       "      <td>Шина 15,5 R38 (400R965)  Ф-2А Белшина</td>\n",
       "      <td>https://prom.ua/p3446225-product.html</td>\n",
       "      <td>801222</td>\n",
       "      <td>шины</td>\n",
       "      <td>шина 15,5 r38 ф-2а белшина приминение :трактор...</td>\n",
       "      <td>[задние ведущие колёса трактора, тракторы, зад...</td>\n",
       "      <td>[камерное тип рисунка протектора повышенной пр...</td>\n",
       "    </tr>\n",
       "    <tr>\n",
       "      <th>21252332</th>\n",
       "      <td>Платье \"Cоло\" мол. — Модель 689м (замена круже...</td>\n",
       "      <td>https://prom.ua/p21252332-product.html</td>\n",
       "      <td>35402</td>\n",
       "      <td>платья женские</td>\n",
       "      <td>товар высокого качества по ценам от производит...</td>\n",
       "      <td>[разный возраст комплекции, последние тенденци...</td>\n",
       "      <td>[-коллекция одежды постоянно обновляется расши...</td>\n",
       "    </tr>\n",
       "    <tr>\n",
       "      <th>21652889</th>\n",
       "      <td>Мелки цветные (10 цветов)</td>\n",
       "      <td>https://prom.ua/p21652889-product.html</td>\n",
       "      <td>35402</td>\n",
       "      <td>платья женские</td>\n",
       "      <td>оролрлорлорлор лолдодод</td>\n",
       "      <td>[оролрлорлорлор, лолдодод]</td>\n",
       "      <td>[]</td>\n",
       "    </tr>\n",
       "    <tr>\n",
       "      <th>21665429</th>\n",
       "      <td>Бамбуковый чехол для iPhone 4/4S с птицей</td>\n",
       "      <td>https://prom.ua/p21665429-product.html</td>\n",
       "      <td>380230</td>\n",
       "      <td>чехлы для телефонов, mp3 плееров</td>\n",
       "      <td>бамбуковый чехол для iphone 4/4s птицей надежн...</td>\n",
       "      <td>[айфон, наш интернет-магазин смартфонов аксесс...</td>\n",
       "      <td>[айфон 4 изображением птицы — символом скорых ...</td>\n",
       "    </tr>\n",
       "    <tr>\n",
       "      <th>21665585</th>\n",
       "      <td>Бамбуковый чехол для iPhone 4/4S с кельтским о...</td>\n",
       "      <td>https://prom.ua/p21665585-product.html</td>\n",
       "      <td>380230</td>\n",
       "      <td>чехлы для телефонов, mp3 плееров</td>\n",
       "      <td>бамбуковый чехол для iphone 4/4s кельтским орн...</td>\n",
       "      <td>[iphone 4/4s, наш интернет-магазин смартфонов ...</td>\n",
       "      <td>[гравировке деревянных чехлов предлагает наш и...</td>\n",
       "    </tr>\n",
       "    <tr>\n",
       "      <th>21665756</th>\n",
       "      <td>Чехол для iPhone 4/4S Статуя Свободы</td>\n",
       "      <td>https://prom.ua/p21665756-product.html</td>\n",
       "      <td>380230</td>\n",
       "      <td>чехлы для телефонов, mp3 плееров</td>\n",
       "      <td>чехол для iphone 4/4s статуя свободы данная мо...</td>\n",
       "      <td>[айфон, такая деревянный кейс, срок службы сма...</td>\n",
       "      <td>[iphone 4/4s статуя свободы данная модель чехл...</td>\n",
       "    </tr>\n",
       "    <tr>\n",
       "      <th>21665947</th>\n",
       "      <td>Бамбуковый чехол для iPhone 4/4S Цветок</td>\n",
       "      <td>https://prom.ua/p21665947-product.html</td>\n",
       "      <td>380230</td>\n",
       "      <td>чехлы для телефонов, mp3 плееров</td>\n",
       "      <td>бамбуковый чехол для iphone 4/4s цветок защитн...</td>\n",
       "      <td>[iphone 4/4s, чехол, дизайн, айфон, особый сво...</td>\n",
       "      <td>[чехол украшен очень красивым цветком нетленны...</td>\n",
       "    </tr>\n",
       "    <tr>\n",
       "      <th>21666081</th>\n",
       "      <td>Бамбуковый чехол для iPhone 4/4S Грампластинка</td>\n",
       "      <td>https://prom.ua/p21666081-product.html</td>\n",
       "      <td>380230</td>\n",
       "      <td>чехлы для телефонов, mp3 плееров</td>\n",
       "      <td>бамбуковый чехол для iphone 4/4s грампластинка...</td>\n",
       "      <td>[такая чехол, бамбуковый чехол, бамбук, специа...</td>\n",
       "      <td>[благодаря своим природным свойствам летом дер...</td>\n",
       "    </tr>\n",
       "    <tr>\n",
       "      <th>21666313</th>\n",
       "      <td>Бамбуковый чехол для iPhone 4/4S с нотами</td>\n",
       "      <td>https://prom.ua/p21666313-product.html</td>\n",
       "      <td>380230</td>\n",
       "      <td>чехлы для телефонов, mp3 плееров</td>\n",
       "      <td>бамбуковый чехол для iphone 4/4s нотами купить...</td>\n",
       "      <td>[ноты, чистый защитный чехол, просмотр фильмов...</td>\n",
       "      <td>[любом другом городе украины стало намного про...</td>\n",
       "    </tr>\n",
       "    <tr>\n",
       "      <th>21666436</th>\n",
       "      <td>Пластиковый чехол дерево для iPhone 4/4S</td>\n",
       "      <td>https://prom.ua/p21666436-product.html</td>\n",
       "      <td>380230</td>\n",
       "      <td>чехлы для телефонов, mp3 плееров</td>\n",
       "      <td>пластиковый чехол дерево для iphone 4/4s чехол...</td>\n",
       "      <td>[айфон, пластиковый чехол, изображение, самые ...</td>\n",
       "      <td>[нанесенное сверху изображение текстурой дерев...</td>\n",
       "    </tr>\n",
       "  </tbody>\n",
       "</table>\n",
       "</div>"
      ],
      "text/plain": [
       "                                                       name  \\\n",
       "id                                                            \n",
       "3446225               Шина 15,5 R38 (400R965)  Ф-2А Белшина   \n",
       "21252332  Платье \"Cоло\" мол. — Модель 689м (замена круже...   \n",
       "21652889                          Мелки цветные (10 цветов)   \n",
       "21665429         Бамбуковый чехол для iPhone 4/4S с птицей    \n",
       "21665585  Бамбуковый чехол для iPhone 4/4S с кельтским о...   \n",
       "21665756              Чехол для iPhone 4/4S Статуя Свободы    \n",
       "21665947            Бамбуковый чехол для iPhone 4/4S Цветок   \n",
       "21666081     Бамбуковый чехол для iPhone 4/4S Грампластинка   \n",
       "21666313          Бамбуковый чехол для iPhone 4/4S с нотами   \n",
       "21666436           Пластиковый чехол дерево для iPhone 4/4S   \n",
       "\n",
       "                                             url  category_id  \\\n",
       "id                                                              \n",
       "3446225    https://prom.ua/p3446225-product.html       801222   \n",
       "21252332  https://prom.ua/p21252332-product.html        35402   \n",
       "21652889  https://prom.ua/p21652889-product.html        35402   \n",
       "21665429  https://prom.ua/p21665429-product.html       380230   \n",
       "21665585  https://prom.ua/p21665585-product.html       380230   \n",
       "21665756  https://prom.ua/p21665756-product.html       380230   \n",
       "21665947  https://prom.ua/p21665947-product.html       380230   \n",
       "21666081  https://prom.ua/p21666081-product.html       380230   \n",
       "21666313  https://prom.ua/p21666313-product.html       380230   \n",
       "21666436  https://prom.ua/p21666436-product.html       380230   \n",
       "\n",
       "                               cat_caption  \\\n",
       "id                                           \n",
       "3446225                               шины   \n",
       "21252332                    платья женские   \n",
       "21652889                    платья женские   \n",
       "21665429  чехлы для телефонов, mp3 плееров   \n",
       "21665585  чехлы для телефонов, mp3 плееров   \n",
       "21665756  чехлы для телефонов, mp3 плееров   \n",
       "21665947  чехлы для телефонов, mp3 плееров   \n",
       "21666081  чехлы для телефонов, mp3 плееров   \n",
       "21666313  чехлы для телефонов, mp3 плееров   \n",
       "21666436  чехлы для телефонов, mp3 плееров   \n",
       "\n",
       "                                                description  \\\n",
       "id                                                            \n",
       "3446225   шина 15,5 r38 ф-2а белшина приминение :трактор...   \n",
       "21252332  товар высокого качества по ценам от производит...   \n",
       "21652889                            оролрлорлорлор лолдодод   \n",
       "21665429  бамбуковый чехол для iphone 4/4s птицей надежн...   \n",
       "21665585  бамбуковый чехол для iphone 4/4s кельтским орн...   \n",
       "21665756  чехол для iphone 4/4s статуя свободы данная мо...   \n",
       "21665947  бамбуковый чехол для iphone 4/4s цветок защитн...   \n",
       "21666081  бамбуковый чехол для iphone 4/4s грампластинка...   \n",
       "21666313  бамбуковый чехол для iphone 4/4s нотами купить...   \n",
       "21666436  пластиковый чехол дерево для iphone 4/4s чехол...   \n",
       "\n",
       "                                                desc_tokens  \\\n",
       "id                                                            \n",
       "3446225   [задние ведущие колёса трактора, тракторы, зад...   \n",
       "21252332  [разный возраст комплекции, последние тенденци...   \n",
       "21652889                         [оролрлорлорлор, лолдодод]   \n",
       "21665429  [айфон, наш интернет-магазин смартфонов аксесс...   \n",
       "21665585  [iphone 4/4s, наш интернет-магазин смартфонов ...   \n",
       "21665756  [айфон, такая деревянный кейс, срок службы сма...   \n",
       "21665947  [iphone 4/4s, чехол, дизайн, айфон, особый сво...   \n",
       "21666081  [такая чехол, бамбуковый чехол, бамбук, специа...   \n",
       "21666313  [ноты, чистый защитный чехол, просмотр фильмов...   \n",
       "21666436  [айфон, пластиковый чехол, изображение, самые ...   \n",
       "\n",
       "                                           desc_tokens_rake  \n",
       "id                                                           \n",
       "3446225   [камерное тип рисунка протектора повышенной пр...  \n",
       "21252332  [-коллекция одежды постоянно обновляется расши...  \n",
       "21652889                                                 []  \n",
       "21665429  [айфон 4 изображением птицы — символом скорых ...  \n",
       "21665585  [гравировке деревянных чехлов предлагает наш и...  \n",
       "21665756  [iphone 4/4s статуя свободы данная модель чехл...  \n",
       "21665947  [чехол украшен очень красивым цветком нетленны...  \n",
       "21666081  [благодаря своим природным свойствам летом дер...  \n",
       "21666313  [любом другом городе украины стало намного про...  \n",
       "21666436  [нанесенное сверху изображение текстурой дерев...  "
      ]
     },
     "execution_count": 71,
     "metadata": {},
     "output_type": "execute_result"
    }
   ],
   "source": [
    "df[:10]"
   ]
  },
  {
   "cell_type": "code",
   "execution_count": 72,
   "metadata": {
    "ExecuteTime": {
     "end_time": "2018-10-10T09:17:34.307363Z",
     "start_time": "2018-10-10T09:17:34.259961Z"
    }
   },
   "outputs": [],
   "source": [
    "df.drop_duplicates(subset=['name'])[:1000].to_csv('prods_with_tokenized_desc.csv',sep='\\t', index=True)"
   ]
  },
  {
   "cell_type": "markdown",
   "metadata": {},
   "source": [
    "## Test on separate phrases"
   ]
  },
  {
   "cell_type": "code",
   "execution_count": 17,
   "metadata": {
    "ExecuteTime": {
     "end_time": "2018-11-08T16:05:14.031443Z",
     "start_time": "2018-11-08T16:05:14.024519Z"
    }
   },
   "outputs": [],
   "source": [
    "text = 'Душевая стойка из нержавеющей стали с гидромассажем Okyanus'\n",
    "text = 'услуги адвоката по уголовным делам'\n",
    "text = 'услуга адвокат уголовный дело'\n",
    "text = 'купить лилового и синего слона с большими ушами'"
   ]
  },
  {
   "cell_type": "code",
   "execution_count": 18,
   "metadata": {
    "ExecuteTime": {
     "end_time": "2018-11-08T16:05:15.809187Z",
     "start_time": "2018-11-08T16:05:15.792651Z"
    }
   },
   "outputs": [
    {
     "data": {
      "text/plain": [
       "['синего слона', 'купить лилового']"
      ]
     },
     "metadata": {},
     "output_type": "display_data"
    },
    {
     "data": {
      "text/plain": [
       "['лиловый', 'синий слон']"
      ]
     },
     "metadata": {},
     "output_type": "display_data"
    },
    {
     "data": {
      "text/plain": [
       "['синий слон', 'большие уши']"
      ]
     },
     "metadata": {},
     "output_type": "display_data"
    }
   ],
   "source": [
    "display(tokenize_description(text, algorithm='rake'))\n",
    "\n",
    "display(tokenize_description(text, algorithm='textrank'))\n",
    "\n",
    "display(tokenize_description(text, algorithm='rutermextractor'))"
   ]
  },
  {
   "cell_type": "code",
   "execution_count": 19,
   "metadata": {
    "ExecuteTime": {
     "end_time": "2018-11-08T16:39:38.961658Z",
     "start_time": "2018-11-08T16:39:38.949956Z"
    }
   },
   "outputs": [
    {
     "data": {
      "text/plain": [
       "[<rutermextract.term_extractor.Term at 0x7efd28b2aba8>]"
      ]
     },
     "execution_count": 19,
     "metadata": {},
     "output_type": "execute_result"
    }
   ],
   "source": [
    "term_extractor('text')"
   ]
  },
  {
   "cell_type": "code",
   "execution_count": 20,
   "metadata": {
    "ExecuteTime": {
     "end_time": "2018-11-08T16:42:37.917787Z",
     "start_time": "2018-11-08T16:42:37.907132Z"
    }
   },
   "outputs": [],
   "source": [
    "a = [1]\n",
    "a.extend([4,2])"
   ]
  },
  {
   "cell_type": "code",
   "execution_count": 24,
   "metadata": {
    "ExecuteTime": {
     "end_time": "2018-11-08T16:47:04.312480Z",
     "start_time": "2018-11-08T16:47:04.305540Z"
    }
   },
   "outputs": [],
   "source": [
    "def list_diff(first, second):\n",
    "    second = set(second)\n",
    "    return [item for item in first if item not in second]"
   ]
  },
  {
   "cell_type": "code",
   "execution_count": 25,
   "metadata": {
    "ExecuteTime": {
     "end_time": "2018-11-08T16:47:47.646778Z",
     "start_time": "2018-11-08T16:47:47.640522Z"
    }
   },
   "outputs": [],
   "source": [
    "A = [1,2,3,4]\n",
    "B = [2,5]"
   ]
  },
  {
   "cell_type": "code",
   "execution_count": 27,
   "metadata": {
    "ExecuteTime": {
     "end_time": "2018-11-08T16:48:00.784812Z",
     "start_time": "2018-11-08T16:48:00.769308Z"
    }
   },
   "outputs": [
    {
     "data": {
      "text/plain": [
       "[5]"
      ]
     },
     "execution_count": 27,
     "metadata": {},
     "output_type": "execute_result"
    }
   ],
   "source": [
    "diff(B, A)"
   ]
  }
 ],
 "metadata": {
  "kernelspec": {
   "display_name": "Python 3",
   "language": "python",
   "name": "python3"
  },
  "language_info": {
   "codemirror_mode": {
    "name": "ipython",
    "version": 3
   },
   "file_extension": ".py",
   "mimetype": "text/x-python",
   "name": "python",
   "nbconvert_exporter": "python",
   "pygments_lexer": "ipython3",
   "version": "3.4.3"
  },
  "toc": {
   "base_numbering": 1,
   "nav_menu": {},
   "number_sections": true,
   "sideBar": true,
   "skip_h1_title": false,
   "title_cell": "Table of Contents",
   "title_sidebar": "Contents",
   "toc_cell": false,
   "toc_position": {},
   "toc_section_display": true,
   "toc_window_display": false
  },
  "varInspector": {
   "cols": {
    "lenName": 16,
    "lenType": 16,
    "lenVar": 40
   },
   "kernels_config": {
    "python": {
     "delete_cmd_postfix": "",
     "delete_cmd_prefix": "del ",
     "library": "var_list.py",
     "varRefreshCmd": "print(var_dic_list())"
    },
    "r": {
     "delete_cmd_postfix": ") ",
     "delete_cmd_prefix": "rm(",
     "library": "var_list.r",
     "varRefreshCmd": "cat(var_dic_list()) "
    }
   },
   "types_to_exclude": [
    "module",
    "function",
    "builtin_function_or_method",
    "instance",
    "_Feature"
   ],
   "window_display": false
  }
 },
 "nbformat": 4,
 "nbformat_minor": 2
}
